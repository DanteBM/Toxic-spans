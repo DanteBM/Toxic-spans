{
 "cells": [
  {
   "cell_type": "code",
   "execution_count": 79,
   "metadata": {},
   "outputs": [],
   "source": [
    "import re\n",
    "\n",
    "import numpy as np\n",
    "import pandas as pd"
   ]
  },
  {
   "cell_type": "markdown",
   "metadata": {},
   "source": [
    "# Lectura"
   ]
  },
  {
   "cell_type": "code",
   "execution_count": 80,
   "metadata": {},
   "outputs": [
    {
     "name": "stdout",
     "output_type": "stream",
     "text": [
      "(690, 2)\n"
     ]
    },
    {
     "data": {
      "text/html": [
       "<div>\n",
       "<style scoped>\n",
       "    .dataframe tbody tr th:only-of-type {\n",
       "        vertical-align: middle;\n",
       "    }\n",
       "\n",
       "    .dataframe tbody tr th {\n",
       "        vertical-align: top;\n",
       "    }\n",
       "\n",
       "    .dataframe thead th {\n",
       "        text-align: right;\n",
       "    }\n",
       "</style>\n",
       "<table border=\"1\" class=\"dataframe\">\n",
       "  <thead>\n",
       "    <tr style=\"text-align: right;\">\n",
       "      <th></th>\n",
       "      <th>spans</th>\n",
       "      <th>text</th>\n",
       "    </tr>\n",
       "  </thead>\n",
       "  <tbody>\n",
       "    <tr>\n",
       "      <th>0</th>\n",
       "      <td>[15, 16, 17, 18, 19, 27, 28, 29, 30, 31]</td>\n",
       "      <td>Because he's a moron and a bigot. It's not any...</td>\n",
       "    </tr>\n",
       "    <tr>\n",
       "      <th>1</th>\n",
       "      <td>[29, 30, 31, 32, 33, 34]</td>\n",
       "      <td>How about we stop protecting idiots and let na...</td>\n",
       "    </tr>\n",
       "    <tr>\n",
       "      <th>2</th>\n",
       "      <td>[166, 167, 168, 169, 170, 171]</td>\n",
       "      <td>If people  were  smart, they would  Boycott th...</td>\n",
       "    </tr>\n",
       "    <tr>\n",
       "      <th>3</th>\n",
       "      <td>[87, 88, 89, 90, 91, 92]</td>\n",
       "      <td>Trump Claimed that Russia will never invade th...</td>\n",
       "    </tr>\n",
       "    <tr>\n",
       "      <th>4</th>\n",
       "      <td>[]</td>\n",
       "      <td>As long as your willing to pay a lot more for ...</td>\n",
       "    </tr>\n",
       "  </tbody>\n",
       "</table>\n",
       "</div>"
      ],
      "text/plain": [
       "                                      spans  \\\n",
       "0  [15, 16, 17, 18, 19, 27, 28, 29, 30, 31]   \n",
       "1                  [29, 30, 31, 32, 33, 34]   \n",
       "2            [166, 167, 168, 169, 170, 171]   \n",
       "3                  [87, 88, 89, 90, 91, 92]   \n",
       "4                                        []   \n",
       "\n",
       "                                                text  \n",
       "0  Because he's a moron and a bigot. It's not any...  \n",
       "1  How about we stop protecting idiots and let na...  \n",
       "2  If people  were  smart, they would  Boycott th...  \n",
       "3  Trump Claimed that Russia will never invade th...  \n",
       "4  As long as your willing to pay a lot more for ...  "
      ]
     },
     "execution_count": 80,
     "metadata": {},
     "output_type": "execute_result"
    }
   ],
   "source": [
    "data_trial = pd.read_csv(\"../data/tsd_trial.csv\")\n",
    "print(data_trial.shape)\n",
    "data_trial.head()"
   ]
  },
  {
   "cell_type": "code",
   "execution_count": 81,
   "metadata": {},
   "outputs": [
    {
     "name": "stdout",
     "output_type": "stream",
     "text": [
      "(7939, 2)\n"
     ]
    },
    {
     "data": {
      "text/html": [
       "<div>\n",
       "<style scoped>\n",
       "    .dataframe tbody tr th:only-of-type {\n",
       "        vertical-align: middle;\n",
       "    }\n",
       "\n",
       "    .dataframe tbody tr th {\n",
       "        vertical-align: top;\n",
       "    }\n",
       "\n",
       "    .dataframe thead th {\n",
       "        text-align: right;\n",
       "    }\n",
       "</style>\n",
       "<table border=\"1\" class=\"dataframe\">\n",
       "  <thead>\n",
       "    <tr style=\"text-align: right;\">\n",
       "      <th></th>\n",
       "      <th>spans</th>\n",
       "      <th>text</th>\n",
       "    </tr>\n",
       "  </thead>\n",
       "  <tbody>\n",
       "    <tr>\n",
       "      <th>0</th>\n",
       "      <td>[8, 9, 10, 11, 12, 13, 14, 15, 16, 17, 18, 19,...</td>\n",
       "      <td>Another violent and aggressive immigrant killi...</td>\n",
       "    </tr>\n",
       "    <tr>\n",
       "      <th>1</th>\n",
       "      <td>[33, 34, 35, 36, 37, 38, 39]</td>\n",
       "      <td>I am 56 years old, I am not your fucking junio...</td>\n",
       "    </tr>\n",
       "    <tr>\n",
       "      <th>2</th>\n",
       "      <td>[0, 1, 2, 3]</td>\n",
       "      <td>Damn, a whole family. Sad indeed.</td>\n",
       "    </tr>\n",
       "    <tr>\n",
       "      <th>3</th>\n",
       "      <td>[7, 8, 9, 10, 11, 12, 13, 14, 15, 16, 17]</td>\n",
       "      <td>What a knucklehead. How can anyone not know th...</td>\n",
       "    </tr>\n",
       "    <tr>\n",
       "      <th>4</th>\n",
       "      <td>[32, 33, 34, 35, 36, 37, 38]</td>\n",
       "      <td>\"who do you think should do the killing?\"\\n\\nA...</td>\n",
       "    </tr>\n",
       "    <tr>\n",
       "      <th>...</th>\n",
       "      <td>...</td>\n",
       "      <td>...</td>\n",
       "    </tr>\n",
       "    <tr>\n",
       "      <th>7934</th>\n",
       "      <td>[8, 9, 10, 11]</td>\n",
       "      <td>Another fool pipes in.</td>\n",
       "    </tr>\n",
       "    <tr>\n",
       "      <th>7935</th>\n",
       "      <td>[48, 49, 50, 51, 52, 53, 54, 55, 56, 57, 58, 5...</td>\n",
       "      <td>So if a restaurant owner puts up a sign saying...</td>\n",
       "    </tr>\n",
       "    <tr>\n",
       "      <th>7936</th>\n",
       "      <td>[0, 1, 2, 3, 4, 5, 6, 7, 8, 9, 10, 11, 12, 13,...</td>\n",
       "      <td>Any faith that can't stand up to logic and rea...</td>\n",
       "    </tr>\n",
       "    <tr>\n",
       "      <th>7937</th>\n",
       "      <td>[5, 6, 7, 8, 9, 10, 11]</td>\n",
       "      <td>This idiotic. Use the surplus to pay down the ...</td>\n",
       "    </tr>\n",
       "    <tr>\n",
       "      <th>7938</th>\n",
       "      <td>[106, 107, 108, 109, 110, 169, 170, 171, 172, ...</td>\n",
       "      <td>Who is this \"we\" of which you speak? Are you r...</td>\n",
       "    </tr>\n",
       "  </tbody>\n",
       "</table>\n",
       "<p>7939 rows × 2 columns</p>\n",
       "</div>"
      ],
      "text/plain": [
       "                                                  spans  \\\n",
       "0     [8, 9, 10, 11, 12, 13, 14, 15, 16, 17, 18, 19,...   \n",
       "1                          [33, 34, 35, 36, 37, 38, 39]   \n",
       "2                                          [0, 1, 2, 3]   \n",
       "3             [7, 8, 9, 10, 11, 12, 13, 14, 15, 16, 17]   \n",
       "4                          [32, 33, 34, 35, 36, 37, 38]   \n",
       "...                                                 ...   \n",
       "7934                                     [8, 9, 10, 11]   \n",
       "7935  [48, 49, 50, 51, 52, 53, 54, 55, 56, 57, 58, 5...   \n",
       "7936  [0, 1, 2, 3, 4, 5, 6, 7, 8, 9, 10, 11, 12, 13,...   \n",
       "7937                            [5, 6, 7, 8, 9, 10, 11]   \n",
       "7938  [106, 107, 108, 109, 110, 169, 170, 171, 172, ...   \n",
       "\n",
       "                                                   text  \n",
       "0     Another violent and aggressive immigrant killi...  \n",
       "1     I am 56 years old, I am not your fucking junio...  \n",
       "2                     Damn, a whole family. Sad indeed.  \n",
       "3     What a knucklehead. How can anyone not know th...  \n",
       "4     \"who do you think should do the killing?\"\\n\\nA...  \n",
       "...                                                 ...  \n",
       "7934                             Another fool pipes in.  \n",
       "7935  So if a restaurant owner puts up a sign saying...  \n",
       "7936  Any faith that can't stand up to logic and rea...  \n",
       "7937  This idiotic. Use the surplus to pay down the ...  \n",
       "7938  Who is this \"we\" of which you speak? Are you r...  \n",
       "\n",
       "[7939 rows x 2 columns]"
      ]
     },
     "execution_count": 81,
     "metadata": {},
     "output_type": "execute_result"
    }
   ],
   "source": [
    "data_train = pd.read_csv(\"../data/tsd_train.csv\")\n",
    "print(data_train.shape)\n",
    "data_train"
   ]
  },
  {
   "cell_type": "code",
   "execution_count": 82,
   "metadata": {},
   "outputs": [
    {
     "data": {
      "text/plain": [
       "(8629, 2)"
      ]
     },
     "execution_count": 82,
     "metadata": {},
     "output_type": "execute_result"
    }
   ],
   "source": [
    "data = pd.concat([data_trial, data_train])\n",
    "data.shape"
   ]
  },
  {
   "cell_type": "markdown",
   "metadata": {},
   "source": [
    "Vemos que había solamente cinco textos repetidos. \n",
    "\n",
    "Se usará `tsd_train.csv` para entrenar y `tsd_trial` para validación\n",
    "\n",
    "-------------"
   ]
  },
  {
   "cell_type": "markdown",
   "metadata": {},
   "source": [
    "# Alfabeto\n",
    "\n",
    "Vendría bien conocer que símbolos hay en los textos"
   ]
  },
  {
   "cell_type": "code",
   "execution_count": 83,
   "metadata": {},
   "outputs": [],
   "source": [
    "conjuntos = data_train.text.agg(set)\n",
    "alfabeto = set()"
   ]
  },
  {
   "cell_type": "code",
   "execution_count": 84,
   "metadata": {},
   "outputs": [
    {
     "data": {
      "text/plain": [
       "{'\\t',\n",
       " '\\n',\n",
       " ' ',\n",
       " '!',\n",
       " '\"',\n",
       " '#',\n",
       " '$',\n",
       " '%',\n",
       " '&',\n",
       " \"'\",\n",
       " '(',\n",
       " ')',\n",
       " '*',\n",
       " '+',\n",
       " ',',\n",
       " '-',\n",
       " '.',\n",
       " '/',\n",
       " '0',\n",
       " '1',\n",
       " '2',\n",
       " '3',\n",
       " '4',\n",
       " '5',\n",
       " '6',\n",
       " '7',\n",
       " '8',\n",
       " '9',\n",
       " ':',\n",
       " ';',\n",
       " '<',\n",
       " '=',\n",
       " '>',\n",
       " '?',\n",
       " '@',\n",
       " 'A',\n",
       " 'B',\n",
       " 'C',\n",
       " 'D',\n",
       " 'E',\n",
       " 'F',\n",
       " 'G',\n",
       " 'H',\n",
       " 'I',\n",
       " 'J',\n",
       " 'K',\n",
       " 'L',\n",
       " 'M',\n",
       " 'N',\n",
       " 'O',\n",
       " 'P',\n",
       " 'Q',\n",
       " 'R',\n",
       " 'S',\n",
       " 'T',\n",
       " 'U',\n",
       " 'V',\n",
       " 'W',\n",
       " 'X',\n",
       " 'Y',\n",
       " 'Z',\n",
       " '[',\n",
       " '\\\\',\n",
       " ']',\n",
       " '^',\n",
       " '_',\n",
       " '`',\n",
       " 'a',\n",
       " 'b',\n",
       " 'c',\n",
       " 'd',\n",
       " 'e',\n",
       " 'f',\n",
       " 'g',\n",
       " 'h',\n",
       " 'i',\n",
       " 'j',\n",
       " 'k',\n",
       " 'l',\n",
       " 'm',\n",
       " 'n',\n",
       " 'o',\n",
       " 'p',\n",
       " 'q',\n",
       " 'r',\n",
       " 's',\n",
       " 't',\n",
       " 'u',\n",
       " 'v',\n",
       " 'w',\n",
       " 'x',\n",
       " 'y',\n",
       " 'z',\n",
       " '{',\n",
       " '}',\n",
       " '~',\n",
       " '\\x7f',\n",
       " '\\xa0',\n",
       " '«',\n",
       " '¬',\n",
       " '·',\n",
       " '»',\n",
       " 'é',\n",
       " 'ê',\n",
       " 'ï',\n",
       " 'ó',\n",
       " 'ü',\n",
       " 'ʻ',\n",
       " 'ˈ',\n",
       " '͞',\n",
       " '\\u2004',\n",
       " '\\u200b',\n",
       " '–',\n",
       " '—',\n",
       " '―',\n",
       " '‘',\n",
       " '’',\n",
       " '“',\n",
       " '”',\n",
       " '•',\n",
       " '…',\n",
       " '™',\n",
       " '▀',\n",
       " '☠',\n",
       " '☭',\n",
       " '☹',\n",
       " '⚽',\n",
       " '⚾',\n",
       " '✭',\n",
       " '️',\n",
       " '🆘',\n",
       " '👎',\n",
       " '💀',\n",
       " '💥',\n",
       " '💨',\n",
       " '🔥',\n",
       " '😁',\n",
       " '😂',\n",
       " '😅',\n",
       " '😆',\n",
       " '😈',\n",
       " '😉',\n",
       " '😊',\n",
       " '😜',\n",
       " '😞',\n",
       " '😡',\n",
       " '😬',\n",
       " '😵',\n",
       " '🙄',\n",
       " '🤥'}"
      ]
     },
     "execution_count": 84,
     "metadata": {},
     "output_type": "execute_result"
    }
   ],
   "source": [
    "for index,item in conjuntos.iteritems():\n",
    "    alfabeto |= item\n",
    "\n",
    "alfabeto"
   ]
  },
  {
   "cell_type": "code",
   "execution_count": 85,
   "metadata": {},
   "outputs": [
    {
     "data": {
      "text/plain": [
       "150"
      ]
     },
     "execution_count": 85,
     "metadata": {},
     "output_type": "execute_result"
    }
   ],
   "source": [
    "len(alfabeto)"
   ]
  },
  {
   "cell_type": "markdown",
   "metadata": {},
   "source": [
    "Aparte del abecedario, tenemos algunos símbolos que se usan con relativa frecuencia en internet.\n",
    "\n",
    "Sin embargo, también notamos que hay caracteres raros como las comillas dobles, guiones con sus variantes, etc. También hay que notar que hay emojis "
   ]
  },
  {
   "cell_type": "markdown",
   "metadata": {},
   "source": [
    "# Vocabulario\n",
    "\n",
    "Para obtener el vocabulario, es necesario realizar un preprocesamiento a los textos, esto incluye:\n",
    "* sustituir minúsculas\n",
    "* quitar emojis\n",
    "* ¿quitar caracteres raros?"
   ]
  },
  {
   "cell_type": "code",
   "execution_count": 86,
   "metadata": {},
   "outputs": [],
   "source": [
    "def preprocesar(texto):\n",
    "    texto = texto.lower() #minúsculas\n",
    "    texto = re.sub(\"[\\W_]\", \" \", texto) #carácteres raros\n",
    "    texto = re.sub(\"\\s+\", \" \", texto) # colapsando espaciados\n",
    "    return texto"
   ]
  },
  {
   "cell_type": "code",
   "execution_count": 87,
   "metadata": {},
   "outputs": [
    {
     "data": {
      "text/plain": [
       "'Another violent and aggressive immigrant killing a innocent and intelligent US Citizen.... Sarcasm'"
      ]
     },
     "execution_count": 87,
     "metadata": {},
     "output_type": "execute_result"
    }
   ],
   "source": [
    "s = data_train.text[0]\n",
    "s"
   ]
  },
  {
   "cell_type": "code",
   "execution_count": 88,
   "metadata": {},
   "outputs": [
    {
     "data": {
      "text/plain": [
       "'another violent and aggressive immigrant killing a innocent and intelligent us citizen sarcasm'"
      ]
     },
     "execution_count": 88,
     "metadata": {},
     "output_type": "execute_result"
    }
   ],
   "source": [
    "preprocesar(s)"
   ]
  },
  {
   "cell_type": "code",
   "execution_count": 89,
   "metadata": {},
   "outputs": [
    {
     "data": {
      "text/plain": [
       "18992"
      ]
     },
     "execution_count": 89,
     "metadata": {},
     "output_type": "execute_result"
    }
   ],
   "source": [
    "texto_preprocesado = data_train.text.apply(preprocesar)\n",
    "\n",
    "texto_tokenizado = texto_preprocesado.apply(str.split)\n",
    "\n",
    "vocabulario = set()\n",
    "for index, lista in texto_tokenizado.iteritems():\n",
    "    vocabulario |= set(lista)\n",
    "\n",
    "len(vocabulario)"
   ]
  },
  {
   "cell_type": "markdown",
   "metadata": {},
   "source": [
    "# Preprocesamiento\n",
    "\n",
    "Vamos a obtener el texto que se ha considerado como tóxico"
   ]
  },
  {
   "cell_type": "code",
   "execution_count": 90,
   "metadata": {},
   "outputs": [],
   "source": [
    "def procesar_span(span):\n",
    "    span = re.sub(\"\\s\",\"\",span[1:-1])\n",
    "    if span:\n",
    "        lista = span.split(\",\")\n",
    "        lista = [int(index) for index in lista]\n",
    "    else:\n",
    "        lista = []\n",
    "    return lista"
   ]
  },
  {
   "cell_type": "code",
   "execution_count": 91,
   "metadata": {},
   "outputs": [],
   "source": [
    "data_train[\"spans\"] = data_train[\"spans\"].apply(procesar_span)"
   ]
  },
  {
   "cell_type": "code",
   "execution_count": 92,
   "metadata": {},
   "outputs": [],
   "source": [
    "def obtener_texto_toxico(row):\n",
    "    toxico = []\n",
    "    if row.spans: # Hay texto marcado como toxico\n",
    "        diffs = np.diff(row.spans, prepend=row.spans[0]-1) #prepend para que el primer diff sea uno\n",
    "        toxico = []\n",
    "        indices_inicios = np.argwhere(diffs != 1).ravel() # indices de los inicios de las sigs palabras\n",
    "\n",
    "        i = row.spans[0]\n",
    "        for indice_next in indices_inicios:\n",
    "            j = row.spans[indice_next-1] # fin de la anterior\n",
    "            parte_toxica = row.text[i:j+1]\n",
    "            toxico.append(parte_toxica)\n",
    "            i = row.spans[indice_next]\n",
    "            \n",
    "        # Última parte\n",
    "        j = row.spans[-1]\n",
    "        parte_toxica = row.text[i:j+1]\n",
    "        toxico.append(parte_toxica)\n",
    "\n",
    "    return toxico"
   ]
  },
  {
   "cell_type": "markdown",
   "metadata": {},
   "source": [
    "## Quitando espacios de los tramos tóxicos"
   ]
  },
  {
   "cell_type": "code",
   "execution_count": 93,
   "metadata": {},
   "outputs": [],
   "source": [
    "def quitar_espacios_de_spans(row):\n",
    "    toxico = obtener_texto_toxico(row)\n",
    "    toxic_span = \"\".join(toxico)\n",
    "    toxic_match = set(re.findall(r\"\\W\", toxic_span))\n",
    "    buenos = row.spans\n",
    "    indices = []\n",
    "    if len(toxic_match) >= 1:\n",
    "        for extraño in toxic_match:\n",
    "            extraño = re.escape(extraño)\n",
    "            if extraño == \"\\ \":\n",
    "                indice = re.finditer(extraño, toxic_span)\n",
    "                indices = [i.start() for i in indice]\n",
    "        if len(indices) != 0:\n",
    "            por_quitar = [row.spans[i] for i in indices]\n",
    "            buenos = [i for i in row.spans if i not in por_quitar]\n",
    "    return buenos"
   ]
  },
  {
   "cell_type": "code",
   "execution_count": 94,
   "metadata": {},
   "outputs": [],
   "source": [
    "def quitar_espacios_de_spans(row):\n",
    "    toxico = obtener_texto_toxico(row)\n",
    "    toxic_span = \"\".join(toxico) # juntar texto tóxico\n",
    "    toxic_match = set(re.findall(r\"\\W\", toxic_span)) # encontrar cosas que no son letras, números o guión bajo\n",
    "    # Inicialización\n",
    "    buenos = row.spans\n",
    "    indices = []\n",
    "    \n",
    "    for extraño in toxic_match: # Si no hay nada en toxic_match, no se itera\n",
    "        extraño = re.escape(extraño) # escapando posibles caracteres con interpretación RegEx\n",
    "        if extraño == \"\\ \":\n",
    "            indice = re.finditer(extraño, toxic_span) \n",
    "            indices = [i.start() for i in indice] # Índices de espacios en el texto\n",
    "    if indices:\n",
    "        por_quitar = [row.spans[i] for i in indices] # spans tóxicos que son espacios\n",
    "        buenos = [i for i in row.spans if i not in por_quitar] # filtrando\n",
    "            \n",
    "    return buenos"
   ]
  },
  {
   "cell_type": "code",
   "execution_count": 95,
   "metadata": {},
   "outputs": [],
   "source": [
    "for row in data_train.itertuples():\n",
    "    idx = row.Index\n",
    "    buenos = quitar_espacios_de_spans(row)\n",
    "    data_train.iloc[idx, 0] = buenos"
   ]
  },
  {
   "cell_type": "code",
   "execution_count": 96,
   "metadata": {},
   "outputs": [
    {
     "data": {
      "text/plain": [
       "'Who is this \"we\" of which you speak? Are you really a woman, Lars? If not then concern yourself with your penis and other genital and reproductive parts and stay out of women\\'s bodies.'"
      ]
     },
     "execution_count": 96,
     "metadata": {},
     "output_type": "execute_result"
    }
   ],
   "source": [
    "data_train.iloc[7938, :].text"
   ]
  },
  {
   "cell_type": "code",
   "execution_count": 97,
   "metadata": {},
   "outputs": [
    {
     "data": {
      "text/plain": [
       "[106,\n",
       " 107,\n",
       " 108,\n",
       " 109,\n",
       " 110,\n",
       " 169,\n",
       " 170,\n",
       " 171,\n",
       " 172,\n",
       " 173,\n",
       " 174,\n",
       " 175,\n",
       " 177,\n",
       " 178,\n",
       " 179,\n",
       " 180,\n",
       " 181,\n",
       " 182]"
      ]
     },
     "execution_count": 97,
     "metadata": {},
     "output_type": "execute_result"
    }
   ],
   "source": [
    "data_train.spans[7938]"
   ]
  },
  {
   "cell_type": "code",
   "execution_count": 98,
   "metadata": {},
   "outputs": [
    {
     "data": {
      "text/plain": [
       "'Who is this \"we\" of which you speak? Are you really a woman, Lars? If not then concern yourself with your penis and other genital and reproductive parts and stay out of women\\'s bodies.'"
      ]
     },
     "execution_count": 98,
     "metadata": {},
     "output_type": "execute_result"
    }
   ],
   "source": [
    "data_train.text[7938]"
   ]
  },
  {
   "cell_type": "markdown",
   "metadata": {},
   "source": [
    "# Quitando puntuación\n",
    "\n",
    "No es tan trivial el solamente eliminar la puntuación y cosas raras, tal como se hizo al inicio al momento de querer el vocabulario. Se debe registrar donde se están eliminando cosas para luego ver si eso era parte de un toxic span"
   ]
  },
  {
   "cell_type": "code",
   "execution_count": 99,
   "metadata": {},
   "outputs": [],
   "source": [
    "def eliminar_caracteres(row):\n",
    "    #toxico = obtener_texto_toxico(row)\n",
    "    #toxic_span = \"\".join(toxico) # juntar texto tóxico\n",
    "    strange_chars = set(re.findall(r\"[\\W¿\\?']\", row.text)) # encontrar cosas que no son letras, números o guión bajo\n",
    "    # Inicialización\n",
    "    offsets_filtrado = row.spans\n",
    "    texto_filtrado = row.text\n",
    "    indices = []\n",
    "    \n",
    "    for extraño in strange_chars: # Si no hay nada en toxic_match, no se itera\n",
    "        extraño = re.escape(extraño) # escapando posibles caracteres con interpretación RegEx            \n",
    "        extraño_matchs = re.finditer(extraño, row.text)  # busca los caracteres raros\n",
    "        indices += [i.start() for i in extraño_matchs] # Índices de caracteres en el texto\n",
    "        \n",
    "    if indices:\n",
    "        indices = set(indices)\n",
    "        spans_malos = indices & set(row.spans)\n",
    "        offsets_filtrado = [i for i in row.spans if i not in spans_malos] # filtrando\n",
    "        texto_filtrado = [c for i,c in enumerate(row.text) if i not in indices or c == \" \"]\n",
    "        texto_filtrado = \"\".join(texto_filtrado)\n",
    "            \n",
    "    return offsets_filtrado, texto_filtrado"
   ]
  },
  {
   "cell_type": "code",
   "execution_count": 100,
   "metadata": {},
   "outputs": [
    {
     "name": "stdout",
     "output_type": "stream",
     "text": [
      "[106, 107, 108, 109, 110, 169, 170, 171, 172, 173, 174, 175, 177, 178, 179, 180, 181, 182]\n",
      "Who is this \"we\" of which you speak? Are you really a woman, Lars? If not then concern yourself with your penis and other genital and reproductive parts and stay out of women's bodies.\n"
     ]
    }
   ],
   "source": [
    "row = data_train.loc[7938]\n",
    "print(row.spans)\n",
    "print(row.text)"
   ]
  },
  {
   "cell_type": "code",
   "execution_count": 101,
   "metadata": {},
   "outputs": [
    {
     "data": {
      "text/plain": [
       "([106,\n",
       "  107,\n",
       "  108,\n",
       "  109,\n",
       "  110,\n",
       "  169,\n",
       "  170,\n",
       "  171,\n",
       "  172,\n",
       "  173,\n",
       "  175,\n",
       "  177,\n",
       "  178,\n",
       "  179,\n",
       "  180,\n",
       "  181,\n",
       "  182],\n",
       " 'Who is this we of which you speak Are you really a woman Lars If not then concern yourself with your penis and other genital and reproductive parts and stay out of womens bodies')"
      ]
     },
     "execution_count": 101,
     "metadata": {},
     "output_type": "execute_result"
    }
   ],
   "source": [
    "eliminar_caracteres(row)"
   ]
  },
  {
   "cell_type": "code",
   "execution_count": 102,
   "metadata": {},
   "outputs": [],
   "source": [
    "for row in data_train.itertuples():\n",
    "    idx = row.Index\n",
    "    buenos, texto_nuevo = eliminar_caracteres(row)\n",
    "    data_train.iloc[idx, 0] = buenos\n",
    "    data_train.iloc[idx, 1] = texto_nuevo"
   ]
  },
  {
   "cell_type": "markdown",
   "metadata": {},
   "source": [
    "## Corrigiendo errores de los pendejos que subrayaron"
   ]
  },
  {
   "cell_type": "code",
   "execution_count": 103,
   "metadata": {},
   "outputs": [],
   "source": [
    "def separar_spans_toxicos(row):\n",
    "    lists = []\n",
    "    start = row.spans[0]\n",
    "    end = row.spans[0]\n",
    "    for i in range(1, len(row.spans)):\n",
    "        #print(row.spans[i])\n",
    "        end = row.spans[i]\n",
    "        previous = row.spans[i-1] \n",
    "        if (end - previous) != 1: # Terminó un span, inició el otro\n",
    "            lists.append(list(range(start,previous+1)))\n",
    "            start = end\n",
    "    \n",
    "    # Agregando último span\n",
    "    lists.append(list( range(start, end+1) ))\n",
    "            \n",
    "    return lists"
   ]
  },
  {
   "cell_type": "code",
   "execution_count": 104,
   "metadata": {},
   "outputs": [],
   "source": [
    "\n",
    "\n",
    "def corregir_mamadas(row, umbral):\n",
    "    lista_palabras = row.text.split()\n",
    "    starts, ends = [], []\n",
    "    start, end = 0, -2\n",
    "    for idx, palabra in enumerate(lista_palabras):\n",
    "        starts.append(start) # start actual\n",
    "        start += len(palabra) + 1 # start para la siguiente\n",
    "        end   += len(palabra) + 1 # end actual\n",
    "        ends.append(end)\n",
    "    \n",
    "    toxicos = []\n",
    "    if row.spans:\n",
    "        indices_separados = separar_spans_toxicos(row)\n",
    "        for separado in indices_separados: # iterando partes tóxicas \n",
    "            indices = separado\n",
    "            for s, e in zip(starts, ends): # iterando \"texto\" por medio de los índices de palabras\n",
    "                if separado[0] in range(s,e+1): # span está en una palabra\n",
    "                    if separado != list(range(s, e+1)): # los spans no abarca toda la palabra\n",
    "                        if len(separado)/(len(list(range(s, e+1)))) <= umbral:\n",
    "                            indices = [] # mejor ni lo marques\n",
    "                        else:\n",
    "                            indices = list(range(s, e+1)) # ya márcate todo mejor\n",
    "                    else:\n",
    "                        break # la palabra está bien marcada, pasa a la siguiente parte tóxica\n",
    "            toxicos.extend(indices)\n",
    "    return toxicos"
   ]
  },
  {
   "cell_type": "markdown",
   "metadata": {},
   "source": [
    "## Probando con el ejemplo de Tradeu:"
   ]
  },
  {
   "cell_type": "code",
   "execution_count": 105,
   "metadata": {},
   "outputs": [
    {
     "name": "stdout",
     "output_type": "stream",
     "text": [
      "[6, 8, 9, 11, 12, 13, 14, 16, 17, 19, 20, 21, 22, 25, 26, 27, 29, 30, 31, 32, 33, 35, 36, 38, 39, 41, 42, 43, 44, 46, 47, 48, 49, 51, 52, 53, 54, 55, 56, 57, 58, 60, 61, 63, 64, 65, 66, 67, 68, 69, 70, 71, 73, 74, 75, 76, 77, 78, 80, 81, 82, 83, 85, 86, 88, 89, 90, 92, 93, 94, 95, 96, 97, 98, 100, 101, 102, 104, 105, 107, 108, 109, 111, 112, 113, 114, 115, 117, 118, 119, 120, 122, 123, 124, 125, 127, 128, 130, 131, 132, 133, 134, 135, 137, 139, 140, 141, 142, 144, 145, 146, 148, 149]\n",
      "[8, 9, 11, 12, 13, 14, 16, 17, 19, 20, 21, 22, 24, 25, 26, 28, 29, 30, 31, 32, 34, 35, 37, 38, 40, 41, 42, 43, 45, 46, 47, 48, 50, 51, 52, 53, 54, 55, 56, 57, 59, 60, 62, 63, 64, 65, 66, 67, 68, 69, 70, 72, 73, 74, 75, 76, 77, 79, 80, 81, 82, 84, 85, 87, 88, 89, 91, 92, 93, 94, 95, 96, 97, 99, 100, 101, 103, 104, 106, 107, 108, 110, 111, 112, 113, 114, 116, 117, 118, 119, 121, 122, 123, 124, 126, 127, 129, 130, 131, 132, 133, 134, 135, 137, 138, 139, 140, 142, 143, 144]\n"
     ]
    }
   ],
   "source": [
    "# Antes: Sobran el índice 6, el 148 y el 149\n",
    "print(data_train.iloc[218,:].spans)\n",
    "\n",
    "for idx, row in data_train.iterrows():\n",
    "    corregidos = corregir_mamadas(data_train.iloc[218,:], 0.75)\n",
    "    data_train.iloc[218, 0] = corregidos\n",
    "    break\n",
    "\n",
    "print(data_train.iloc[218,:].spans)"
   ]
  },
  {
   "cell_type": "markdown",
   "metadata": {},
   "source": [
    "## Ahora sí en general:"
   ]
  },
  {
   "cell_type": "code",
   "execution_count": 106,
   "metadata": {},
   "outputs": [
    {
     "data": {
      "text/html": [
       "<div>\n",
       "<style scoped>\n",
       "    .dataframe tbody tr th:only-of-type {\n",
       "        vertical-align: middle;\n",
       "    }\n",
       "\n",
       "    .dataframe tbody tr th {\n",
       "        vertical-align: top;\n",
       "    }\n",
       "\n",
       "    .dataframe thead th {\n",
       "        text-align: right;\n",
       "    }\n",
       "</style>\n",
       "<table border=\"1\" class=\"dataframe\">\n",
       "  <thead>\n",
       "    <tr style=\"text-align: right;\">\n",
       "      <th></th>\n",
       "      <th>spans</th>\n",
       "      <th>text</th>\n",
       "    </tr>\n",
       "  </thead>\n",
       "  <tbody>\n",
       "    <tr>\n",
       "      <th>0</th>\n",
       "      <td>[8, 9, 10, 11, 12, 13, 14, 16, 17, 18, 20, 21,...</td>\n",
       "      <td>Another violent and aggressive immigrant killi...</td>\n",
       "    </tr>\n",
       "    <tr>\n",
       "      <th>1</th>\n",
       "      <td>[33, 34, 35, 36, 37, 38, 39]</td>\n",
       "      <td>I am 56 years old I am not your fucking junior...</td>\n",
       "    </tr>\n",
       "    <tr>\n",
       "      <th>2</th>\n",
       "      <td>[0, 1, 2, 3]</td>\n",
       "      <td>Damn a whole family Sad indeed</td>\n",
       "    </tr>\n",
       "    <tr>\n",
       "      <th>3</th>\n",
       "      <td>[7, 8, 9, 10, 11, 12, 13, 14, 15, 16, 17]</td>\n",
       "      <td>What a knucklehead How can anyone not know thi...</td>\n",
       "    </tr>\n",
       "    <tr>\n",
       "      <th>4</th>\n",
       "      <td>[32, 33, 34, 35, 36, 37, 38]</td>\n",
       "      <td>who do you think should do the killingAnyone a...</td>\n",
       "    </tr>\n",
       "    <tr>\n",
       "      <th>...</th>\n",
       "      <td>...</td>\n",
       "      <td>...</td>\n",
       "    </tr>\n",
       "    <tr>\n",
       "      <th>7934</th>\n",
       "      <td>[8, 9, 10, 11]</td>\n",
       "      <td>Another fool pipes in</td>\n",
       "    </tr>\n",
       "    <tr>\n",
       "      <th>7935</th>\n",
       "      <td>[48, 49, 51, 52, 53, 54, 55, 56, 58, 59, 60, 6...</td>\n",
       "      <td>So if a restaurant owner puts up a sign saying...</td>\n",
       "    </tr>\n",
       "    <tr>\n",
       "      <th>7936</th>\n",
       "      <td>[0, 1, 2, 4, 5, 6, 7, 8, 10, 11, 12, 13, 15, 1...</td>\n",
       "      <td>Any faith that cant stand up to logic and reas...</td>\n",
       "    </tr>\n",
       "    <tr>\n",
       "      <th>7937</th>\n",
       "      <td>[5, 6, 7, 8, 9, 10, 11]</td>\n",
       "      <td>This idiotic Use the surplus to pay down the p...</td>\n",
       "    </tr>\n",
       "    <tr>\n",
       "      <th>7938</th>\n",
       "      <td>[106, 107, 108, 109, 110, 169, 170, 171, 172, ...</td>\n",
       "      <td>Who is this we of which you speak Are you real...</td>\n",
       "    </tr>\n",
       "  </tbody>\n",
       "</table>\n",
       "<p>7939 rows × 2 columns</p>\n",
       "</div>"
      ],
      "text/plain": [
       "                                                  spans  \\\n",
       "0     [8, 9, 10, 11, 12, 13, 14, 16, 17, 18, 20, 21,...   \n",
       "1                          [33, 34, 35, 36, 37, 38, 39]   \n",
       "2                                          [0, 1, 2, 3]   \n",
       "3             [7, 8, 9, 10, 11, 12, 13, 14, 15, 16, 17]   \n",
       "4                          [32, 33, 34, 35, 36, 37, 38]   \n",
       "...                                                 ...   \n",
       "7934                                     [8, 9, 10, 11]   \n",
       "7935  [48, 49, 51, 52, 53, 54, 55, 56, 58, 59, 60, 6...   \n",
       "7936  [0, 1, 2, 4, 5, 6, 7, 8, 10, 11, 12, 13, 15, 1...   \n",
       "7937                            [5, 6, 7, 8, 9, 10, 11]   \n",
       "7938  [106, 107, 108, 109, 110, 169, 170, 171, 172, ...   \n",
       "\n",
       "                                                   text  \n",
       "0     Another violent and aggressive immigrant killi...  \n",
       "1     I am 56 years old I am not your fucking junior...  \n",
       "2                        Damn a whole family Sad indeed  \n",
       "3     What a knucklehead How can anyone not know thi...  \n",
       "4     who do you think should do the killingAnyone a...  \n",
       "...                                                 ...  \n",
       "7934                              Another fool pipes in  \n",
       "7935  So if a restaurant owner puts up a sign saying...  \n",
       "7936  Any faith that cant stand up to logic and reas...  \n",
       "7937  This idiotic Use the surplus to pay down the p...  \n",
       "7938  Who is this we of which you speak Are you real...  \n",
       "\n",
       "[7939 rows x 2 columns]"
      ]
     },
     "execution_count": 106,
     "metadata": {},
     "output_type": "execute_result"
    }
   ],
   "source": [
    "data_train"
   ]
  },
  {
   "cell_type": "code",
   "execution_count": 107,
   "metadata": {},
   "outputs": [
    {
     "data": {
      "text/html": [
       "<div>\n",
       "<style scoped>\n",
       "    .dataframe tbody tr th:only-of-type {\n",
       "        vertical-align: middle;\n",
       "    }\n",
       "\n",
       "    .dataframe tbody tr th {\n",
       "        vertical-align: top;\n",
       "    }\n",
       "\n",
       "    .dataframe thead th {\n",
       "        text-align: right;\n",
       "    }\n",
       "</style>\n",
       "<table border=\"1\" class=\"dataframe\">\n",
       "  <thead>\n",
       "    <tr style=\"text-align: right;\">\n",
       "      <th></th>\n",
       "      <th>spans</th>\n",
       "      <th>text</th>\n",
       "    </tr>\n",
       "  </thead>\n",
       "  <tbody>\n",
       "    <tr>\n",
       "      <th>0</th>\n",
       "      <td>[8, 9, 10, 11, 12, 13, 14, 16, 17, 18, 20, 21,...</td>\n",
       "      <td>Another violent and aggressive immigrant killi...</td>\n",
       "    </tr>\n",
       "    <tr>\n",
       "      <th>1</th>\n",
       "      <td>[32, 33, 34, 35, 36, 37, 38]</td>\n",
       "      <td>I am 56 years old I am not your fucking junior...</td>\n",
       "    </tr>\n",
       "    <tr>\n",
       "      <th>2</th>\n",
       "      <td>[0, 1, 2, 3]</td>\n",
       "      <td>Damn a whole family Sad indeed</td>\n",
       "    </tr>\n",
       "    <tr>\n",
       "      <th>3</th>\n",
       "      <td>[7, 8, 9, 10, 11, 12, 13, 14, 15, 16, 17]</td>\n",
       "      <td>What a knucklehead How can anyone not know thi...</td>\n",
       "    </tr>\n",
       "    <tr>\n",
       "      <th>4</th>\n",
       "      <td>[]</td>\n",
       "      <td>who do you think should do the killingAnyone a...</td>\n",
       "    </tr>\n",
       "    <tr>\n",
       "      <th>...</th>\n",
       "      <td>...</td>\n",
       "      <td>...</td>\n",
       "    </tr>\n",
       "    <tr>\n",
       "      <th>7934</th>\n",
       "      <td>[8, 9, 10, 11]</td>\n",
       "      <td>Another fool pipes in</td>\n",
       "    </tr>\n",
       "    <tr>\n",
       "      <th>7935</th>\n",
       "      <td>[47, 48, 50, 51, 52, 53, 54, 55, 57, 58, 59, 6...</td>\n",
       "      <td>So if a restaurant owner puts up a sign saying...</td>\n",
       "    </tr>\n",
       "    <tr>\n",
       "      <th>7936</th>\n",
       "      <td>[0, 1, 2, 4, 5, 6, 7, 8, 10, 11, 12, 13, 19, 2...</td>\n",
       "      <td>Any faith that cant stand up to logic and reas...</td>\n",
       "    </tr>\n",
       "    <tr>\n",
       "      <th>7937</th>\n",
       "      <td>[5, 6, 7, 8, 9, 10, 11]</td>\n",
       "      <td>This idiotic Use the surplus to pay down the p...</td>\n",
       "    </tr>\n",
       "    <tr>\n",
       "      <th>7938</th>\n",
       "      <td>[106, 107, 108, 109, 110, 164, 165, 166, 167, ...</td>\n",
       "      <td>Who is this we of which you speak Are you real...</td>\n",
       "    </tr>\n",
       "  </tbody>\n",
       "</table>\n",
       "<p>7939 rows × 2 columns</p>\n",
       "</div>"
      ],
      "text/plain": [
       "                                                  spans  \\\n",
       "0     [8, 9, 10, 11, 12, 13, 14, 16, 17, 18, 20, 21,...   \n",
       "1                          [32, 33, 34, 35, 36, 37, 38]   \n",
       "2                                          [0, 1, 2, 3]   \n",
       "3             [7, 8, 9, 10, 11, 12, 13, 14, 15, 16, 17]   \n",
       "4                                                    []   \n",
       "...                                                 ...   \n",
       "7934                                     [8, 9, 10, 11]   \n",
       "7935  [47, 48, 50, 51, 52, 53, 54, 55, 57, 58, 59, 6...   \n",
       "7936  [0, 1, 2, 4, 5, 6, 7, 8, 10, 11, 12, 13, 19, 2...   \n",
       "7937                            [5, 6, 7, 8, 9, 10, 11]   \n",
       "7938  [106, 107, 108, 109, 110, 164, 165, 166, 167, ...   \n",
       "\n",
       "                                                   text  \n",
       "0     Another violent and aggressive immigrant killi...  \n",
       "1     I am 56 years old I am not your fucking junior...  \n",
       "2                        Damn a whole family Sad indeed  \n",
       "3     What a knucklehead How can anyone not know thi...  \n",
       "4     who do you think should do the killingAnyone a...  \n",
       "...                                                 ...  \n",
       "7934                              Another fool pipes in  \n",
       "7935  So if a restaurant owner puts up a sign saying...  \n",
       "7936  Any faith that cant stand up to logic and reas...  \n",
       "7937  This idiotic Use the surplus to pay down the p...  \n",
       "7938  Who is this we of which you speak Are you real...  \n",
       "\n",
       "[7939 rows x 2 columns]"
      ]
     },
     "execution_count": 107,
     "metadata": {},
     "output_type": "execute_result"
    }
   ],
   "source": [
    "for idx, row in data_train.iterrows():\n",
    "    corregidos = corregir_mamadas(row, 0.75)\n",
    "    data_train.iloc[idx, 0] = corregidos\n",
    "\n",
    "data_train"
   ]
  },
  {
   "cell_type": "code",
   "execution_count": 108,
   "metadata": {},
   "outputs": [],
   "source": [
    "data_train.text = data_train.text.str.lower()"
   ]
  },
  {
   "cell_type": "markdown",
   "metadata": {},
   "source": [
    "No se ven diferencias porque habían pocas de estas situaciones, o al menos sólo observamos una, la de Tradeu."
   ]
  },
  {
   "cell_type": "code",
   "execution_count": 109,
   "metadata": {},
   "outputs": [],
   "source": [
    "data_train.to_csv(\"../data/train_cleaned2.csv\", index = False)"
   ]
  },
  {
   "cell_type": "code",
   "execution_count": 110,
   "metadata": {},
   "outputs": [],
   "source": [
    "data_trial.spans = data_trial.spans.apply(procesar_span)"
   ]
  },
  {
   "cell_type": "code",
   "execution_count": 111,
   "metadata": {},
   "outputs": [],
   "source": [
    "for idx, row in data_trial.iterrows():\n",
    "    corregidos = corregir_mamadas(row, 0.75)\n",
    "    data_trial.iloc[idx, 0] = corregidos"
   ]
  },
  {
   "cell_type": "code",
   "execution_count": 112,
   "metadata": {},
   "outputs": [],
   "source": [
    "data_trial.text = data_trial.text.str.lower()"
   ]
  },
  {
   "cell_type": "code",
   "execution_count": 113,
   "metadata": {},
   "outputs": [],
   "source": [
    "data_trial.to_csv(\"../data/trial_cleaned2.csv\", index = False)"
   ]
  },
  {
   "cell_type": "markdown",
   "metadata": {},
   "source": [
    "-----------"
   ]
  },
  {
   "cell_type": "markdown",
   "metadata": {},
   "source": [
    "# Etiquetado POS"
   ]
  },
  {
   "cell_type": "code",
   "execution_count": 29,
   "metadata": {},
   "outputs": [
    {
     "data": {
      "text/plain": [
       "[('Do', 'VB'),\n",
       " ('you', 'PRP'),\n",
       " ('own', 'VB'),\n",
       " ('stock', 'NN'),\n",
       " ('in', 'IN'),\n",
       " ('one', 'CD'),\n",
       " ('of', 'IN'),\n",
       " ('Trump', 'NNP'),\n",
       " (\"'s\", 'POS'),\n",
       " ('Russian', 'JJ'),\n",
       " ('enterprises', 'NNS'),\n",
       " ('or', 'CC'),\n",
       " ('do', 'VB'),\n",
       " ('you', 'PRP'),\n",
       " ('just', 'RB'),\n",
       " ('not', 'RB'),\n",
       " ('care', 'VB'),\n",
       " ('that', 'IN'),\n",
       " ('a', 'DT'),\n",
       " ('presidential', 'JJ'),\n",
       " ('election', 'NN'),\n",
       " ('was', 'VBD'),\n",
       " ('hijacked', 'VBN'),\n",
       " ('?', '.')]"
      ]
     },
     "execution_count": 29,
     "metadata": {},
     "output_type": "execute_result"
    }
   ],
   "source": [
    "from nltk.tag import pos_tag\n",
    "from nltk.tokenize import word_tokenize\n",
    "import nltk\n",
    "#nltk.download('punkt')\n",
    "#nltk.download('averaged_perceptron_tagger')\n",
    "text = nltk.word_tokenize(\"Do you own stock in one of Trump's Russian enterprises or do you just not care that a presidential election was hijacked? \")\n",
    "nltk.pos_tag(text)"
   ]
  },
  {
   "cell_type": "code",
   "execution_count": 31,
   "metadata": {},
   "outputs": [],
   "source": [
    "#nltk.pos_tag?"
   ]
  },
  {
   "cell_type": "code",
   "execution_count": 32,
   "metadata": {},
   "outputs": [],
   "source": [
    "#nltk.pos_tag_sents?"
   ]
  }
 ],
 "metadata": {
  "kernelspec": {
   "display_name": "Python 3",
   "language": "python",
   "name": "python3"
  },
  "language_info": {
   "codemirror_mode": {
    "name": "ipython",
    "version": 3
   },
   "file_extension": ".py",
   "mimetype": "text/x-python",
   "name": "python",
   "nbconvert_exporter": "python",
   "pygments_lexer": "ipython3",
   "version": "3.8.5"
  }
 },
 "nbformat": 4,
 "nbformat_minor": 4
}
